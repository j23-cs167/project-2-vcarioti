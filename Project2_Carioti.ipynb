{
  "cells": [
    {
      "cell_type": "markdown",
      "metadata": {
        "id": "view-in-github",
        "colab_type": "text"
      },
      "source": [
        "<a href=\"https://colab.research.google.com/github/j23-cs167/project-2-vcarioti/blob/main/Project2_Carioti.ipynb\" target=\"_parent\"><img src=\"https://colab.research.google.com/assets/colab-badge.svg\" alt=\"Open In Colab\"/></a>"
      ]
    },
    {
      "cell_type": "markdown",
      "metadata": {
        "id": "rIepkBIuT_Pl"
      },
      "source": [
        "# Project #2\n",
        "##Name: Vince Carioti\n",
        "\n",
        "Proposed Points (out of 25):"
      ]
    },
    {
      "cell_type": "markdown",
      "metadata": {
        "id": "HbwKLNhzP8YO"
      },
      "source": [
        "# 1. Problem\n",
        "State the problem you are trying to solve with this machine learning experiment. Include a description of the data, where you got the data, and what you're trying to predict.."
      ]
    },
    {
      "cell_type": "markdown",
      "metadata": {
        "id": "LwseoUsMmCz2"
      },
      "source": [
        "I am trying to solve the problem of discovering how well a Convolutional Neural Network can classify Pictures of the following unique class settings: {Buildings, Forests, Glaciers, Mountains, Seas, Streets}. The data set I am using is comprised of image data (14000 training, 3000 testing) including the above listed natural scenes, and was found on Kaggle under the name 'Intel Image Classification.' The goal of this experiment is to correctly classify as many of the natural scenes in each of these images as possible."
      ]
    },
    {
      "cell_type": "markdown",
      "metadata": {
        "id": "qR_foVOeQVL7"
      },
      "source": [
        "# 2. Data Preparation\n",
        "Explain your data preparation. What did you have to do to get your data in shape for your experiments? Why are you certain that you data is clean and prepared for use in your algorithms?"
      ]
    },
    {
      "cell_type": "markdown",
      "metadata": {
        "id": "aMDJDnW_mOWu"
      },
      "source": [
        "Data preparation for this experiment was relatively simple. I started by importing all keras packages and connecting to Google Drive. I then defined the image dimensions and batch size, specified paths for training and testing data, and rescaled my pixel values to 0 to 1 from 0 to 255. Finally, I defined my training and testing data "
      ]
    },
    {
      "cell_type": "code",
      "execution_count": 2,
      "metadata": {
        "colab": {
          "base_uri": "https://localhost:8080/"
        },
        "id": "9dUdBChRmKxR",
        "outputId": "07d25bb3-db8b-4717-addb-fd2e4cabf8fb"
      },
      "outputs": [
        {
          "output_type": "stream",
          "name": "stdout",
          "text": [
            "Drive already mounted at /content/drive; to attempt to forcibly remount, call drive.mount(\"/content/drive\", force_remount=True).\n",
            "Found 14039 images belonging to 6 classes.\n",
            "Found 3000 images belonging to 6 classes.\n"
          ]
        }
      ],
      "source": [
        "# load and prepare your data here\n",
        "import keras\n",
        "import tensorflow \n",
        "import sys\n",
        "from matplotlib import pyplot as plt\n",
        "from keras.utils import to_categorical\n",
        "from keras.models import Sequential\n",
        "from keras.layers import Conv2D\n",
        "from keras.layers import MaxPooling2D\n",
        "from keras.layers import Dense\n",
        "from keras.layers import Flatten\n",
        "from keras.optimizers import SGD\n",
        "from keras.preprocessing.image import ImageDataGenerator\n",
        "import sys\n",
        "\n",
        "## Connect to Drive\n",
        "from google.colab import drive\n",
        "import pandas\n",
        "drive.mount('/content/drive')\n",
        "\n",
        "## Image dimensions\n",
        "img_width = 150\n",
        "img_height = 150\n",
        "\n",
        "## Directories for testing and training data\n",
        "train_data_dir = '/content/drive/MyDrive/Datasets/project2/seg_train/seg_train' \n",
        "test_data_dir = '/content/drive/MyDrive/Datasets/project2/seg_test/seg_test'\n",
        "\n",
        "## To feed the training images to the neural network in batches of 32 images \n",
        "batch_size = 64\n",
        "\n",
        "## Rescale pixel values from [0, 255] to between 0 and 1\n",
        "datagen = ImageDataGenerator(rescale=1.0/255.0)\n",
        "\n",
        "## Look for training and testing data and classifying based on subfolder\n",
        "train_data = datagen.flow_from_directory(\n",
        "        train_data_dir,\n",
        "        target_size=(img_width, img_height),\n",
        "        batch_size=batch_size,\n",
        "        class_mode='binary')\n",
        "\n",
        "test_data = datagen.flow_from_directory(\n",
        "        test_data_dir,\n",
        "        target_size=(img_width, img_height),\n",
        "        batch_size=batch_size,\n",
        "        class_mode='binary')"
      ]
    },
    {
      "cell_type": "markdown",
      "metadata": {
        "id": "Hc7HMmNPR10W"
      },
      "source": [
        "# 3. Research\n",
        "\n",
        "Put your code and your experiments here."
      ]
    },
    {
      "cell_type": "code",
      "execution_count": 3,
      "metadata": {
        "colab": {
          "base_uri": "https://localhost:8080/"
        },
        "id": "XfaACsEOR4U5",
        "outputId": "d2b45f27-4b4b-4ef9-a698-b038be1777d5"
      },
      "outputs": [
        {
          "output_type": "stream",
          "name": "stdout",
          "text": [
            "Model: \"sequential\"\n",
            "_________________________________________________________________\n",
            " Layer (type)                Output Shape              Param #   \n",
            "=================================================================\n",
            " conv2d (Conv2D)             (None, 148, 148, 32)      896       \n",
            "                                                                 \n",
            " max_pooling2d (MaxPooling2D  (None, 74, 74, 32)       0         \n",
            " )                                                               \n",
            "                                                                 \n",
            " conv2d_1 (Conv2D)           (None, 72, 72, 32)        9248      \n",
            "                                                                 \n",
            " max_pooling2d_1 (MaxPooling  (None, 36, 36, 32)       0         \n",
            " 2D)                                                             \n",
            "                                                                 \n",
            " flatten (Flatten)           (None, 41472)             0         \n",
            "                                                                 \n",
            " dense (Dense)               (None, 32)                1327136   \n",
            "                                                                 \n",
            " dense_1 (Dense)             (None, 1)                 33        \n",
            "                                                                 \n",
            "=================================================================\n",
            "Total params: 1,337,313\n",
            "Trainable params: 1,337,313\n",
            "Non-trainable params: 0\n",
            "_________________________________________________________________\n"
          ]
        }
      ],
      "source": [
        "# code goes here... don't forget to include graphs. Professor Urness loves graphs.\n",
        "# Building my CNN\n",
        "model = Sequential()\n",
        "model.add(Conv2D(32, (3, 3), activation = 'relu', input_shape=(img_width, img_height, 3)))\n",
        "model.add(MaxPooling2D(pool_size=(2, 2)))\n",
        "model.add(Conv2D(32, (3, 3),activation = 'relu'))\n",
        "model.add(MaxPooling2D(pool_size=(2, 2)))\n",
        "model.add(Flatten()) #flatten the convolutional layer so it can go into a fully-connected layer\n",
        "model.add(Dense(32)) #fully-connected layer\n",
        "model.add(Dense(1,activation='sigmoid'))\n",
        "opt = SGD(learning_rate=0.001, momentum=0.9)\n",
        "model.compile(optimizer=opt, loss='sparse_categorical_crossentropy', metrics=['accuracy'])\n",
        "\n",
        "model.summary()\n"
      ]
    },
    {
      "cell_type": "code",
      "execution_count": 4,
      "metadata": {
        "colab": {
          "base_uri": "https://localhost:8080/"
        },
        "id": "Ko2A2Vy7SLKt",
        "outputId": "ee5bb893-2523-46a0-da43-883645641b3b"
      },
      "outputs": [
        {
          "output_type": "stream",
          "name": "stdout",
          "text": [
            "Epoch 1/10\n",
            "220/220 [==============================] - 3920s 18s/step - loss: nan - accuracy: 0.1566 - val_loss: nan - val_accuracy: 0.1457\n",
            "Epoch 2/10\n",
            "220/220 [==============================] - 37s 169ms/step - loss: nan - accuracy: 0.1564 - val_loss: nan - val_accuracy: 0.1457\n",
            "Epoch 3/10\n",
            "220/220 [==============================] - 39s 175ms/step - loss: nan - accuracy: 0.1564 - val_loss: nan - val_accuracy: 0.1457\n",
            "Epoch 4/10\n",
            "220/220 [==============================] - 38s 174ms/step - loss: nan - accuracy: 0.1564 - val_loss: nan - val_accuracy: 0.1457\n",
            "Epoch 5/10\n",
            "220/220 [==============================] - 38s 173ms/step - loss: nan - accuracy: 0.1564 - val_loss: nan - val_accuracy: 0.1457\n",
            "Epoch 6/10\n",
            "220/220 [==============================] - 38s 172ms/step - loss: nan - accuracy: 0.1564 - val_loss: nan - val_accuracy: 0.1457\n",
            "Epoch 7/10\n",
            "220/220 [==============================] - 37s 169ms/step - loss: nan - accuracy: 0.1564 - val_loss: nan - val_accuracy: 0.1457\n",
            "Epoch 8/10\n",
            "220/220 [==============================] - 38s 173ms/step - loss: nan - accuracy: 0.1564 - val_loss: nan - val_accuracy: 0.1457\n",
            "Epoch 9/10\n",
            "220/220 [==============================] - 38s 172ms/step - loss: nan - accuracy: 0.1564 - val_loss: nan - val_accuracy: 0.1457\n",
            "Epoch 10/10\n",
            "220/220 [==============================] - 39s 175ms/step - loss: nan - accuracy: 0.1564 - val_loss: nan - val_accuracy: 0.1457\n"
          ]
        }
      ],
      "source": [
        "#training and testing the first model \n",
        "training_results = model.fit(\n",
        "        train_data, #training set\n",
        "        steps_per_epoch = len(train_data), \n",
        "        epochs=10, #number of epochs \n",
        "        validation_data = test_data, #testing set\n",
        "        validation_steps = len(test_data)\n",
        "        )"
      ]
    },
    {
      "cell_type": "code",
      "source": [
        "# Subtracted a conv and pool layer as well as adjusted batch size above. \n",
        "model2 = Sequential()\n",
        "model2.add(Conv2D(32, (3, 3), activation = 'relu', input_shape=(img_width, img_height, 3)))\n",
        "model2.add(MaxPooling2D(pool_size=(2, 2)))\n",
        "model2.add(Flatten()) #flatten the convolutional layer so it can go into a fully-connected layer\n",
        "model2.add(Dense(64)) #fully-connected layer\n",
        "model2.add(Dense(1,activation='sigmoid'))\n",
        "opt2 = SGD(learning_rate=0.001, momentum=0.9)\n",
        "model2.compile(optimizer='adam', loss='sparse_categorical_crossentropy', metrics=['accuracy'])\n",
        "\n",
        "model2.summary()"
      ],
      "metadata": {
        "colab": {
          "base_uri": "https://localhost:8080/"
        },
        "id": "qVHqhdvMadpd",
        "outputId": "62b7dd46-38b0-448e-c850-0efd777f2db5"
      },
      "execution_count": null,
      "outputs": [
        {
          "output_type": "stream",
          "name": "stdout",
          "text": [
            "Model: \"sequential_1\"\n",
            "_________________________________________________________________\n",
            " Layer (type)                Output Shape              Param #   \n",
            "=================================================================\n",
            " conv2d_2 (Conv2D)           (None, 148, 148, 32)      896       \n",
            "                                                                 \n",
            " max_pooling2d_2 (MaxPooling  (None, 74, 74, 32)       0         \n",
            " 2D)                                                             \n",
            "                                                                 \n",
            " flatten_1 (Flatten)         (None, 175232)            0         \n",
            "                                                                 \n",
            " dense_2 (Dense)             (None, 64)                11214912  \n",
            "                                                                 \n",
            " dense_3 (Dense)             (None, 1)                 65        \n",
            "                                                                 \n",
            "=================================================================\n",
            "Total params: 11,215,873\n",
            "Trainable params: 11,215,873\n",
            "Non-trainable params: 0\n",
            "_________________________________________________________________\n"
          ]
        }
      ]
    },
    {
      "cell_type": "code",
      "source": [
        "#training and testing 2nd model\n",
        "training_results2 = model2.fit(\n",
        "        train_data, #training set\n",
        "        steps_per_epoch = len(train_data), \n",
        "        epochs=20, #number of epochs \n",
        "        validation_data = test_data, #testing set\n",
        "        validation_steps = len(test_data)\n",
        "        )"
      ],
      "metadata": {
        "colab": {
          "base_uri": "https://localhost:8080/"
        },
        "id": "1Z8kT5OidzCR",
        "outputId": "41d538f7-4f79-4328-863b-283077f8de86"
      },
      "execution_count": null,
      "outputs": [
        {
          "output_type": "stream",
          "name": "stdout",
          "text": [
            "Epoch 1/20\n",
            "220/220 [==============================] - 40s 183ms/step - loss: nan - accuracy: 0.1564 - val_loss: nan - val_accuracy: 0.1457\n",
            "Epoch 2/20\n",
            "220/220 [==============================] - 40s 180ms/step - loss: nan - accuracy: 0.1564 - val_loss: nan - val_accuracy: 0.1457\n",
            "Epoch 3/20\n",
            "220/220 [==============================] - 38s 175ms/step - loss: nan - accuracy: 0.1564 - val_loss: nan - val_accuracy: 0.1457\n",
            "Epoch 4/20\n",
            "220/220 [==============================] - 38s 174ms/step - loss: nan - accuracy: 0.1564 - val_loss: nan - val_accuracy: 0.1457\n",
            "Epoch 5/20\n",
            "220/220 [==============================] - 38s 175ms/step - loss: nan - accuracy: 0.1564 - val_loss: nan - val_accuracy: 0.1457\n",
            "Epoch 6/20\n",
            "220/220 [==============================] - 41s 184ms/step - loss: nan - accuracy: 0.1564 - val_loss: nan - val_accuracy: 0.1457\n",
            "Epoch 7/20\n",
            "220/220 [==============================] - 39s 175ms/step - loss: nan - accuracy: 0.1564 - val_loss: nan - val_accuracy: 0.1457\n",
            "Epoch 8/20\n",
            "220/220 [==============================] - 38s 174ms/step - loss: nan - accuracy: 0.1564 - val_loss: nan - val_accuracy: 0.1457\n",
            "Epoch 9/20\n",
            "220/220 [==============================] - 39s 177ms/step - loss: nan - accuracy: 0.1564 - val_loss: nan - val_accuracy: 0.1457\n",
            "Epoch 10/20\n",
            "220/220 [==============================] - 38s 173ms/step - loss: nan - accuracy: 0.1564 - val_loss: nan - val_accuracy: 0.1457\n",
            "Epoch 11/20\n",
            "220/220 [==============================] - 38s 174ms/step - loss: nan - accuracy: 0.1564 - val_loss: nan - val_accuracy: 0.1457\n",
            "Epoch 12/20\n",
            "220/220 [==============================] - 38s 175ms/step - loss: nan - accuracy: 0.1564 - val_loss: nan - val_accuracy: 0.1457\n",
            "Epoch 13/20\n",
            "220/220 [==============================] - 38s 174ms/step - loss: nan - accuracy: 0.1564 - val_loss: nan - val_accuracy: 0.1457\n",
            "Epoch 14/20\n",
            "220/220 [==============================] - 38s 174ms/step - loss: nan - accuracy: 0.1564 - val_loss: nan - val_accuracy: 0.1457\n",
            "Epoch 15/20\n",
            "220/220 [==============================] - 38s 174ms/step - loss: nan - accuracy: 0.1564 - val_loss: nan - val_accuracy: 0.1457\n",
            "Epoch 16/20\n",
            "220/220 [==============================] - 39s 177ms/step - loss: nan - accuracy: 0.1564 - val_loss: nan - val_accuracy: 0.1457\n",
            "Epoch 17/20\n",
            "220/220 [==============================] - 39s 176ms/step - loss: nan - accuracy: 0.1564 - val_loss: nan - val_accuracy: 0.1457\n",
            "Epoch 18/20\n",
            "220/220 [==============================] - 38s 174ms/step - loss: nan - accuracy: 0.1564 - val_loss: nan - val_accuracy: 0.1457\n",
            "Epoch 19/20\n",
            "220/220 [==============================] - 38s 175ms/step - loss: nan - accuracy: 0.1564 - val_loss: nan - val_accuracy: 0.1457\n",
            "Epoch 20/20\n",
            "220/220 [==============================] - 40s 180ms/step - loss: nan - accuracy: 0.1564 - val_loss: nan - val_accuracy: 0.1457\n"
          ]
        }
      ]
    },
    {
      "cell_type": "code",
      "source": [
        "import matplotlib.pyplot as plt\n",
        "%matplotlib inline\n",
        "plt.plot(training_results.history['accuracy'])\n",
        "plt.plot(training_results.history['val_accuracy'])\n",
        "plt.title(' Default model accuracy')\n",
        "plt.ylabel('accuracy')\n",
        "plt.xlabel('epoch')\n",
        "plt.legend(['train', 'test'], loc='upper left')\n",
        "plt.show()"
      ],
      "metadata": {
        "colab": {
          "base_uri": "https://localhost:8080/",
          "height": 240
        },
        "id": "ltnD5DJxMeWz",
        "outputId": "6697f196-7dbd-46de-94f0-e661747f8aa1"
      },
      "execution_count": null,
      "outputs": [
        {
          "output_type": "error",
          "ename": "NameError",
          "evalue": "ignored",
          "traceback": [
            "\u001b[0;31m---------------------------------------------------------------------------\u001b[0m",
            "\u001b[0;31mNameError\u001b[0m                                 Traceback (most recent call last)",
            "\u001b[0;32m<ipython-input-1-230b2c4caf34>\u001b[0m in \u001b[0;36m<module>\u001b[0;34m\u001b[0m\n\u001b[1;32m      1\u001b[0m \u001b[0;32mimport\u001b[0m \u001b[0mmatplotlib\u001b[0m\u001b[0;34m.\u001b[0m\u001b[0mpyplot\u001b[0m \u001b[0;32mas\u001b[0m \u001b[0mplt\u001b[0m\u001b[0;34m\u001b[0m\u001b[0;34m\u001b[0m\u001b[0m\n\u001b[1;32m      2\u001b[0m \u001b[0mget_ipython\u001b[0m\u001b[0;34m(\u001b[0m\u001b[0;34m)\u001b[0m\u001b[0;34m.\u001b[0m\u001b[0mrun_line_magic\u001b[0m\u001b[0;34m(\u001b[0m\u001b[0;34m'matplotlib'\u001b[0m\u001b[0;34m,\u001b[0m \u001b[0;34m'inline'\u001b[0m\u001b[0;34m)\u001b[0m\u001b[0;34m\u001b[0m\u001b[0;34m\u001b[0m\u001b[0m\n\u001b[0;32m----> 3\u001b[0;31m \u001b[0mplt\u001b[0m\u001b[0;34m.\u001b[0m\u001b[0mplot\u001b[0m\u001b[0;34m(\u001b[0m\u001b[0mtraining_results\u001b[0m\u001b[0;34m.\u001b[0m\u001b[0mhistory\u001b[0m\u001b[0;34m[\u001b[0m\u001b[0;34m'accuracy'\u001b[0m\u001b[0;34m]\u001b[0m\u001b[0;34m)\u001b[0m\u001b[0;34m\u001b[0m\u001b[0;34m\u001b[0m\u001b[0m\n\u001b[0m\u001b[1;32m      4\u001b[0m \u001b[0mplt\u001b[0m\u001b[0;34m.\u001b[0m\u001b[0mplot\u001b[0m\u001b[0;34m(\u001b[0m\u001b[0mtraining_results\u001b[0m\u001b[0;34m.\u001b[0m\u001b[0mhistory\u001b[0m\u001b[0;34m[\u001b[0m\u001b[0;34m'val_accuracy'\u001b[0m\u001b[0;34m]\u001b[0m\u001b[0;34m)\u001b[0m\u001b[0;34m\u001b[0m\u001b[0;34m\u001b[0m\u001b[0m\n\u001b[1;32m      5\u001b[0m \u001b[0mplt\u001b[0m\u001b[0;34m.\u001b[0m\u001b[0mtitle\u001b[0m\u001b[0;34m(\u001b[0m\u001b[0;34m' Default model accuracy'\u001b[0m\u001b[0;34m)\u001b[0m\u001b[0;34m\u001b[0m\u001b[0;34m\u001b[0m\u001b[0m\n",
            "\u001b[0;31mNameError\u001b[0m: name 'training_results' is not defined"
          ]
        }
      ]
    },
    {
      "cell_type": "code",
      "source": [
        "#This Graph is representative of both models, as the training and testing accuracy did not change from the first epoch\n",
        "#Sososososo frustrating\n",
        "import matplotlib.pyplot as plt\n",
        "%matplotlib inline\n",
        "plt.plot(training_results2.history['accuracy'])\n",
        "plt.plot(training_results2.history['val_accuracy'])\n",
        "plt.title(' CNN with 20 epochs')\n",
        "plt.ylabel('accuracy')\n",
        "plt.xlabel('epoch')\n",
        "plt.legend(['train', 'test'], loc='upper left')\n",
        "plt.show()"
      ],
      "metadata": {
        "colab": {
          "base_uri": "https://localhost:8080/",
          "height": 315
        },
        "id": "TyiCns-yux4E",
        "outputId": "af2a88a1-1e5a-48f4-9a1a-4b67b13999ec"
      },
      "execution_count": null,
      "outputs": [
        {
          "output_type": "display_data",
          "data": {
            "text/plain": [
              "<Figure size 432x288 with 1 Axes>"
            ],
            "image/png": "[encoded data removed]"
          },
          "metadata": {
            "needs_background": "light"
          }
        }
      ]
    },
    {
      "cell_type": "markdown",
      "source": [
        "#4. Analysis\n",
        "What did you discover? What insights/recommendations do you have? What did you find that was interesting? Which model was your best model, which models didn't work well? Why do you think this is? In general, I want a discussion of your experiment, the results, and what they mean."
      ],
      "metadata": {
        "id": "UPkjkHvQOQzO"
      }
    },
    {
      "cell_type": "markdown",
      "metadata": {
        "id": "k17sKBZUmqIH"
      },
      "source": [
        "From these experiments, I've discovered that using this specific model of convolutional neural network on this dataset is not accurate at classifying images. After running a multitude of CNN's and changing different variables such as batch size, number of epochs, which optimizer was used, and what type of loss metric was used, my accuracy of the CNN did not change. I found it interesting that my models were less than 20% accurate, and what I found more interesting was the fact that the accuracy never changed from 15%. I'm really not sure what caused this to happen even after I changed the structure and variables of the model. \n",
        "\n",
        "As far as recommendations I have, I would recommend either a different classification model (if available) or to follow the way that the creator of the Kaggle dataset loaded their data and created their model. Rather than splitting up the training and testing data with a datagen function to resize the pixels, the creator of the dataset made a different type of function and added two more variables: test_predictions and train_predictions. He was able to use these arrays with labels to classify the images and make a model that was monumentally more accurate at identifying which type of image was which. \n",
        "\n",
        "To summarize my results, I will state that with these created convolutional neural networks and this dataset, it's highly difficult to get even 16% accurate, making it hardly a viable model. "
      ]
    },
    {
      "cell_type": "markdown",
      "metadata": {
        "id": "TemAuKxlm6dQ"
      },
      "source": [
        "# 5. Bumps in the Road\n",
        "What challenges did you encounter? How did you overcome these challenges?"
      ]
    },
    {
      "cell_type": "markdown",
      "metadata": {
        "id": "zXEVEG9FnHgQ"
      },
      "source": [
        "I actually encountered a multitude of problems while working on this project. The first problem started when my first model finished epoch 1/20 then froze for an hour. I refreshed the page and ran it again and the same thing happened, so I made a new model with less epochs and the same optimizer and loss metric that the creator of the kaggle dataset used. When nothing changed with that model, I decided to add a convolutional layer and a pooling layer, which made it take slightly longer and had the same result. Finally, I tried the exact same simple model setup that seemed to get the kaggle creator upwards of 90% accuracy, which had less layers in all, and it was still the exact same. \n",
        "\n",
        "I really don't know if I just messed something up so incredibly bad and that's why model is inaccurate, but I really struggled with tweaking a lot of different things on this and still got the exact same results every time over the course of days. "
      ]
    }
  ],
  "metadata": {
    "accelerator": "GPU",
    "colab": {
      "provenance": [],
      "include_colab_link": true
    },
    "gpuClass": "standard",
    "kernelspec": {
      "display_name": "Python 3",
      "name": "python3"
    },
    "language_info": {
      "name": "python"
    }
  },
  "nbformat": 4,
  "nbformat_minor": 0
}